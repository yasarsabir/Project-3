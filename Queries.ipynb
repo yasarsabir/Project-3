{
 "cells": [
  {
   "cell_type": "code",
   "execution_count": 1,
   "id": "28d65711",
   "metadata": {},
   "outputs": [],
   "source": [
    "# Import dependencies\n",
    "from pymongo import MongoClient\n",
    "from pprint import pprint"
   ]
  },
  {
   "cell_type": "code",
   "execution_count": 2,
   "id": "2228c1be",
   "metadata": {},
   "outputs": [],
   "source": [
    "# Create an instance of MongoClient\n",
    "mongo = MongoClient(port=27017)"
   ]
  },
  {
   "cell_type": "code",
   "execution_count": 3,
   "id": "3e1ee57f",
   "metadata": {},
   "outputs": [
    {
     "name": "stdout",
     "output_type": "stream",
     "text": [
      "['admin', 'autosaurus', 'classDB', 'config', 'coviddatadb', 'customerdb', 'fruits_db', 'gardenDB', 'local', 'test_class', 'travel_db', 'uk_food']\n"
     ]
    }
   ],
   "source": [
    "# confirm that our new database was created\n",
    "print(mongo.list_database_names())\n"
   ]
  },
  {
   "cell_type": "code",
   "execution_count": 4,
   "id": "13a83188",
   "metadata": {},
   "outputs": [],
   "source": [
    "# assign the coviddatadb database to a variable name\n",
    "db = mongo['coviddatadb']"
   ]
  },
  {
   "cell_type": "code",
   "execution_count": 5,
   "id": "6a1a02b7",
   "metadata": {},
   "outputs": [
    {
     "name": "stdout",
     "output_type": "stream",
     "text": [
      "['cleanedcoviddata']\n"
     ]
    }
   ],
   "source": [
    "# review the collections in our new database\n",
    "# List the names of the collections in the database. \n",
    "# Be sure to use the variable name you assigned to your database to do this.\n",
    "print(db.list_collection_names())"
   ]
  },
  {
   "cell_type": "code",
   "execution_count": 6,
   "id": "2b8a60ac",
   "metadata": {},
   "outputs": [
    {
     "name": "stdout",
     "output_type": "stream",
     "text": [
      "{'_id': ObjectId('64d3a81b0e69a590d769f2ac'), 'iso_code': 'AFG', 'continent': 'Asia', 'country': 'Afghanistan', 'date': '01/04/2020', 'total_cases': 166.0, 'new_cases': 52.0, 'new_cases_smoothed': 17.714, 'total_deaths': 4.0, 'new_deaths': 0.0, 'new_deaths_smoothed': 0.429, 'total_cases_per_million': 4.036, 'new_cases_per_million': 1.264, 'new_cases_smoothed_per_million': 0.431, 'total_deaths_per_million': 0.097, 'new_deaths_per_million': 0.0, 'new_deaths_smoothed_per_million': 0.01, 'reproduction_rate': 1.51, 'stringency_index': 67.59, 'population_density': 54.422, 'median_age': 18.6, 'aged_65_older': 2.581, 'aged_70_older': 1.337, 'gdp_per_capita': 1803.987, 'cardiovasc_death_rate': 597.029, 'diabetes_prevalence': 9.59, 'handwashing_facilities': 37.746, 'hospital_beds_per_thousand': 0.5, 'life_expectancy': 64.83, 'human_development_index': 0.511, 'population': 41128772, 'latitude': 33.93911, 'longitude': 67.709953}\n"
     ]
    }
   ],
   "source": [
    "# review a document in the cleanedcoviddata collection\n",
    "print(db.cleanedcoviddata.find_one())"
   ]
  },
  {
   "cell_type": "code",
   "execution_count": 7,
   "id": "dc130804",
   "metadata": {},
   "outputs": [],
   "source": [
    "# assign the collection to a variable\n",
    "coviddata = db['coviddatadb']"
   ]
  },
  {
   "cell_type": "markdown",
   "id": "44228bf3",
   "metadata": {},
   "source": [
    "# Daily COVID-19 vaccine doses administered\n",
    "\n",
    "7-day rolling average. All doses, including boosters, are counted individually.\n"
   ]
  },
  {
   "cell_type": "code",
   "execution_count": 12,
   "id": "e46169d3",
   "metadata": {},
   "outputs": [],
   "source": [
    "from datetime import datetime, timedelta\n",
    "\n",
    "# Query the collection to retrieve vaccination data\n",
    "vaccination_data = coviddata.find({'iso_code': 'AFG'})\n",
    "\n",
    "# Create a dictionary to store daily doses\n",
    "daily_doses = {}\n",
    "\n",
    "# Convert date strings to datetime objects\n",
    "for data in vaccination_data:\n",
    "    date_str = data['date']\n",
    "    date = datetime.strptime(date_str, '%d/%m/%Y')\n",
    "    daily_doses[date] = data.get('total_vaccinations', 0)\n",
    "\n",
    "# Calculate 7-day rolling average\n",
    "rolling_average = {}\n",
    "for date, total_doses in daily_doses.items():\n",
    "    start_date = date - timedelta(days=6)\n",
    "    total_doses_sum = sum(daily_doses[d] for d in daily_doses if start_date <= d <= date)\n",
    "    average_doses = total_doses_sum / 7\n",
    "    rolling_average[date] = average_doses\n",
    "\n",
    "# Print the rolling average doses for each date\n",
    "for date, average_doses in rolling_average.items():\n",
    "    print(f\"Date: {date.strftime('%d/%m/%Y')}, 7-day Rolling Average Doses: {average_doses:.2f}\")\n",
    "\n"
   ]
  },
  {
   "cell_type": "markdown",
   "id": "52c0c299",
   "metadata": {},
   "source": [
    "# How many COVID-19 vaccine doses were administered in the previous 12 months?\n",
    "Per 100 people in the population.\n",
    "\n",
    "per million 1st day of every quarter.1/04/2020\n",
    "\n",
    "method for looping through the ocuntries. \n",
    "\n",
    "first create an emty list to hold country name []\n",
    "itterate through the columns to populate the lists \n",
    "create for loop through the list\n",
    "\n",
    "answer in the film data base \n",
    "\n",
    "lesson activity 6/10\n",
    "\n",
    "results.'collecttionname'"
   ]
  },
  {
   "cell_type": "code",
   "execution_count": 23,
   "id": "0f08f52a",
   "metadata": {},
   "outputs": [
    {
     "ename": "NameError",
     "evalue": "name 'start_date' is not defined",
     "output_type": "error",
     "traceback": [
      "\u001b[0;31m---------------------------------------------------------------------------\u001b[0m",
      "\u001b[0;31mNameError\u001b[0m                                 Traceback (most recent call last)",
      "Cell \u001b[0;32mIn[23], line 4\u001b[0m\n\u001b[1;32m      1\u001b[0m \u001b[38;5;66;03m# Query the collection to retrieve the vaccination data for the specified date range\u001b[39;00m\n\u001b[1;32m      2\u001b[0m vaccination_data \u001b[38;5;241m=\u001b[39m coviddata\u001b[38;5;241m.\u001b[39mfind({\n\u001b[1;32m      3\u001b[0m     \u001b[38;5;124m'\u001b[39m\u001b[38;5;124miso_code\u001b[39m\u001b[38;5;124m'\u001b[39m: \u001b[38;5;124m'\u001b[39m\u001b[38;5;124mAFG\u001b[39m\u001b[38;5;124m'\u001b[39m,\n\u001b[0;32m----> 4\u001b[0m     \u001b[38;5;124m'\u001b[39m\u001b[38;5;124mdate\u001b[39m\u001b[38;5;124m'\u001b[39m: {\u001b[38;5;124m'\u001b[39m\u001b[38;5;124m$gte\u001b[39m\u001b[38;5;124m'\u001b[39m: \u001b[43mstart_date\u001b[49m\u001b[38;5;241m.\u001b[39mstrftime(\u001b[38;5;124m'\u001b[39m\u001b[38;5;132;01m%d\u001b[39;00m\u001b[38;5;124m/\u001b[39m\u001b[38;5;124m%\u001b[39m\u001b[38;5;124mm/\u001b[39m\u001b[38;5;124m%\u001b[39m\u001b[38;5;124mY\u001b[39m\u001b[38;5;124m'\u001b[39m), \u001b[38;5;124m'\u001b[39m\u001b[38;5;124m$lte\u001b[39m\u001b[38;5;124m'\u001b[39m: end_date\u001b[38;5;241m.\u001b[39mstrftime(\u001b[38;5;124m'\u001b[39m\u001b[38;5;132;01m%d\u001b[39;00m\u001b[38;5;124m/\u001b[39m\u001b[38;5;124m%\u001b[39m\u001b[38;5;124mm/\u001b[39m\u001b[38;5;124m%\u001b[39m\u001b[38;5;124mY\u001b[39m\u001b[38;5;124m'\u001b[39m)}\n\u001b[1;32m      5\u001b[0m })\n\u001b[1;32m      7\u001b[0m \u001b[38;5;66;03m# Initialize variables to track doses and population\u001b[39;00m\n\u001b[1;32m      8\u001b[0m total_doses_administered \u001b[38;5;241m=\u001b[39m \u001b[38;5;241m0\u001b[39m\n",
      "\u001b[0;31mNameError\u001b[0m: name 'start_date' is not defined"
     ]
    }
   ],
   "source": [
    "# Query the collection to retrieve the vaccination data for the specified date range\n",
    "vaccination_data = coviddata.find({\n",
    "    'iso_code': 'AFG',\n",
    "    'date': {'$gte': start_date.strftime('%d/%m/%Y'), '$lte': end_date.strftime('%d/%m/%Y')}\n",
    "})\n",
    "\n",
    "# Initialize variables to track doses and population\n",
    "total_doses_administered = 0\n",
    "total_population = 0\n",
    "\n",
    "# Calculate the total doses and population\n",
    "for data in vaccination_data:\n",
    "    total_doses_administered += data.get('total_vaccinations', 0)\n",
    "    total_population += data.get('population', 0)\n",
    "\n",
    "# Calculate doses administered per 100 people\n",
    "doses_per_100_people = (total_doses_administered / total_population) * 100\n",
    "\n",
    "# Print the result\n",
    "print(f\"COVID-19 vaccine doses administered in the previous 12 months per 100 people: {doses_per_100_people:.2f}\")\n",
    "\n",
    "\n"
   ]
  },
  {
   "cell_type": "markdown",
   "id": "3270ae7b",
   "metadata": {},
   "source": [
    "# What share of the population has received at least one dose,and completed the initial vaccination protocol?\n"
   ]
  },
  {
   "cell_type": "code",
   "execution_count": 21,
   "id": "85ecbdaa",
   "metadata": {},
   "outputs": [
    {
     "ename": "TypeError",
     "evalue": "'NoneType' object is not subscriptable",
     "output_type": "error",
     "traceback": [
      "\u001b[0;31m---------------------------------------------------------------------------\u001b[0m",
      "\u001b[0;31mTypeError\u001b[0m                                 Traceback (most recent call last)",
      "Cell \u001b[0;32mIn[21], line 5\u001b[0m\n\u001b[1;32m      2\u001b[0m vaccination_data \u001b[38;5;241m=\u001b[39m coviddata\u001b[38;5;241m.\u001b[39mfind_one({\u001b[38;5;124m'\u001b[39m\u001b[38;5;124miso_code\u001b[39m\u001b[38;5;124m'\u001b[39m: \u001b[38;5;124m'\u001b[39m\u001b[38;5;124mAFG\u001b[39m\u001b[38;5;124m'\u001b[39m, \u001b[38;5;124m'\u001b[39m\u001b[38;5;124mdate\u001b[39m\u001b[38;5;124m'\u001b[39m: \u001b[38;5;124m'\u001b[39m\u001b[38;5;124m01/04/2020\u001b[39m\u001b[38;5;124m'\u001b[39m})\n\u001b[1;32m      4\u001b[0m \u001b[38;5;66;03m# Extract relevant fields\u001b[39;00m\n\u001b[0;32m----> 5\u001b[0m total_vaccinations \u001b[38;5;241m=\u001b[39m \u001b[43mvaccination_data\u001b[49m\u001b[43m[\u001b[49m\u001b[38;5;124;43m'\u001b[39;49m\u001b[38;5;124;43mtotal_vaccinations\u001b[39;49m\u001b[38;5;124;43m'\u001b[39;49m\u001b[43m]\u001b[49m\n\u001b[1;32m      6\u001b[0m people_vaccinated \u001b[38;5;241m=\u001b[39m vaccination_data[\u001b[38;5;124m'\u001b[39m\u001b[38;5;124mpeople_vaccinated\u001b[39m\u001b[38;5;124m'\u001b[39m]\n\u001b[1;32m      7\u001b[0m people_fully_vaccinated \u001b[38;5;241m=\u001b[39m vaccination_data[\u001b[38;5;124m'\u001b[39m\u001b[38;5;124mpeople_fully_vaccinated\u001b[39m\u001b[38;5;124m'\u001b[39m]\n",
      "\u001b[0;31mTypeError\u001b[0m: 'NoneType' object is not subscriptable"
     ]
    }
   ],
   "source": [
    "# Query the collection to retrieve the relevant data\n",
    "vaccination_data = coviddata.find_one({'iso_code': 'AFG', 'date': '01/04/2020'})\n",
    "\n",
    "# Extract relevant fields\n",
    "total_vaccinations = vaccination_data['total_vaccinations']\n",
    "people_vaccinated = vaccination_data['people_vaccinated']\n",
    "people_fully_vaccinated = vaccination_data['people_fully_vaccinated']\n",
    "total_population = vaccination_data['population']\n",
    "\n",
    "# Calculate the share of the population that has received at least one dose and completed the protocol\n",
    "one_dose = (people_vaccinated / total_population) * 100\n",
    "share_completed_protocol = (people_fully_vaccinated / total_population) * 100\n",
    "\n",
    "# Print the results\n",
    "print(f\"Share of population with at least one dose: {share_at_least_one_dose:.2f}%\")\n",
    "print(f\"Share of population completed initial vaccination protocol: {share_completed_protocol:.2f}%\")"
   ]
  },
  {
   "cell_type": "code",
   "execution_count": null,
   "id": "f395fa40",
   "metadata": {},
   "outputs": [],
   "source": [
    "\n",
    "## Find the establishments with a hygiene score of 20\n",
    "query = {'scores.Hygiene': 20}\n",
    "\n",
    "# Use count_documents to display the number of documents in the result\n",
    "count = establishments.count_documents(query)\n",
    "print(f\"There are {count} establishments with a hygiene score of 20.\")\n",
    "\n",
    "# Display the first document in the results using pprint\n",
    "pprint(establishments.find_one(query))\n"
   ]
  }
 ],
 "metadata": {
  "kernelspec": {
   "display_name": "Python 3 (ipykernel)",
   "language": "python",
   "name": "python3"
  },
  "language_info": {
   "codemirror_mode": {
    "name": "ipython",
    "version": 3
   },
   "file_extension": ".py",
   "mimetype": "text/x-python",
   "name": "python",
   "nbconvert_exporter": "python",
   "pygments_lexer": "ipython3",
   "version": "3.10.9"
  }
 },
 "nbformat": 4,
 "nbformat_minor": 5
}
