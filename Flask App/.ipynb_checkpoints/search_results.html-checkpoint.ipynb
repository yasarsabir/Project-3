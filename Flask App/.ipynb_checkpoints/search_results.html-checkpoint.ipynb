{
 "cells": [
  {
   "cell_type": "code",
   "execution_count": null,
   "id": "ff777f40",
   "metadata": {},
   "outputs": [],
   "source": [
    "<!DOCTYPE html>\n",
    "<html>\n",
    "<head>\n",
    "    <title>COVID-19 Vaccination Data Dashboard - Search Results</title>\n",
    "</head>\n",
    "<body>\n",
    "    <h1>COVID-19 Vaccination Data Dashboard</h1>\n",
    "    <h2>Search Results for \"{{ query }}\"</h2>\n",
    "    <ul>\n",
    "        {% for result in results %}\n",
    "            <li><a href=\"{{ url_for('location_details', location_name=result['location']) }}\">{{ result['location'] }}</a></li>\n",
    "        {% endfor %}\n",
    "    </ul>\n",
    "    <a href=\"{{ url_for('dashboard') }}\">Back to Dashboard</a>\n",
    "</body>\n",
    "</html>\n"
   ]
  }
 ],
 "metadata": {
  "kernelspec": {
   "display_name": "Python 3 (ipykernel)",
   "language": "python",
   "name": "python3"
  },
  "language_info": {
   "codemirror_mode": {
    "name": "ipython",
    "version": 3
   },
   "file_extension": ".py",
   "mimetype": "text/x-python",
   "name": "python",
   "nbconvert_exporter": "python",
   "pygments_lexer": "ipython3",
   "version": "3.10.11"
  }
 },
 "nbformat": 4,
 "nbformat_minor": 5
}
