{
 "cells": [
  {
   "cell_type": "code",
   "execution_count": null,
   "id": "b7257aba",
   "metadata": {},
   "outputs": [],
   "source": [
    "<!DOCTYPE html>\n",
    "<html>\n",
    "<head>\n",
    "    <title>COVID-19 Vaccination Data Dashboard - Location Details</title>\n",
    "</head>\n",
    "<body>\n",
    "    <h1>COVID-19 Vaccination Data Dashboard</h1>\n",
    "    <h2>Location Details</h2>\n",
    "    {% if location %}\n",
    "        <h3>{{ location['location'] }}</h3>\n",
    "        <p>Total Vaccinations: {{ location['total_vaccinations'] }}</p>\n",
    "    {% else %}\n",
    "        <p>Location not found.</p>\n",
    "    {% endif %}\n",
    "    <a href=\"{{ url_for('dashboard') }}\">Back to Dashboard</a>\n",
    "</body>\n",
    "</html>\n"
   ]
  }
 ],
 "metadata": {
  "kernelspec": {
   "display_name": "Python 3 (ipykernel)",
   "language": "python",
   "name": "python3"
  },
  "language_info": {
   "codemirror_mode": {
    "name": "ipython",
    "version": 3
   },
   "file_extension": ".py",
   "mimetype": "text/x-python",
   "name": "python",
   "nbconvert_exporter": "python",
   "pygments_lexer": "ipython3",
   "version": "3.10.11"
  }
 },
 "nbformat": 4,
 "nbformat_minor": 5
}
