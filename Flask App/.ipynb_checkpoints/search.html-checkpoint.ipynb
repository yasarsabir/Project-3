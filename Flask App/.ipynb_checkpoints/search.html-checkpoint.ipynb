{
 "cells": [
  {
   "cell_type": "code",
   "execution_count": null,
   "id": "dc1b63ab",
   "metadata": {},
   "outputs": [],
   "source": [
    "<!DOCTYPE html>\n",
    "<html>\n",
    "<head>\n",
    "    <title>COVID-19 Vaccination Data Dashboard - Search</title>\n",
    "</head>\n",
    "<body>\n",
    "    <h1>COVID-19 Vaccination Data Dashboard</h1>\n",
    "    <h2>Search</h2>\n",
    "    <form method=\"POST\" action=\"{{ url_for('search') }}\">\n",
    "        <input type=\"text\" name=\"query\" placeholder=\"Enter location name\">\n",
    "        <button type=\"submit\">Search</button>\n",
    "    </form>\n",
    "    <a href=\"{{ url_for('dashboard') }}\">Back to Dashboard</a>\n",
    "</body>\n",
    "</html>\n"
   ]
  }
 ],
 "metadata": {
  "kernelspec": {
   "display_name": "Python 3 (ipykernel)",
   "language": "python",
   "name": "python3"
  },
  "language_info": {
   "codemirror_mode": {
    "name": "ipython",
    "version": 3
   },
   "file_extension": ".py",
   "mimetype": "text/x-python",
   "name": "python",
   "nbconvert_exporter": "python",
   "pygments_lexer": "ipython3",
   "version": "3.10.11"
  }
 },
 "nbformat": 4,
 "nbformat_minor": 5
}
