{
 "cells": [
  {
   "cell_type": "code",
   "execution_count": 1,
   "id": "65593f32",
   "metadata": {},
   "outputs": [],
   "source": [
    "# Import dependencies \n",
    "import pandas as pd\n",
    "import json"
   ]
  },
  {
   "cell_type": "code",
   "execution_count": 3,
   "id": "566341aa",
   "metadata": {},
   "outputs": [],
   "source": [
    "# Read CSV file\n",
    "csv_file_path = 'Resources/clean_df-new.csv'  \n",
    "df = pd.read_csv(csv_file_path)"
   ]
  },
  {
   "cell_type": "code",
   "execution_count": 4,
   "id": "8d483b0e",
   "metadata": {},
   "outputs": [],
   "source": [
    "# Convert DataFrame to JSON\n",
    "json_data = df.to_json(orient='records')"
   ]
  },
  {
   "cell_type": "code",
   "execution_count": 5,
   "id": "82559322",
   "metadata": {},
   "outputs": [],
   "source": [
    "# Write JSON data to a file\n",
    "json_file_path = 'data2.json'"
   ]
  },
  {
   "cell_type": "code",
   "execution_count": 6,
   "id": "b4d98b6e",
   "metadata": {},
   "outputs": [],
   "source": [
    "# Replace with desired JSON file path\n",
    "with open(json_file_path, 'w') as json_file:\n",
    "    json_file.write(json_data)"
   ]
  },
  {
   "cell_type": "code",
   "execution_count": null,
   "id": "12d704f6",
   "metadata": {},
   "outputs": [],
   "source": []
  }
 ],
 "metadata": {
  "kernelspec": {
   "display_name": "Python 3 (ipykernel)",
   "language": "python",
   "name": "python3"
  },
  "language_info": {
   "codemirror_mode": {
    "name": "ipython",
    "version": 3
   },
   "file_extension": ".py",
   "mimetype": "text/x-python",
   "name": "python",
   "nbconvert_exporter": "python",
   "pygments_lexer": "ipython3",
   "version": "3.10.11"
  }
 },
 "nbformat": 4,
 "nbformat_minor": 5
}
