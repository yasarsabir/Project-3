{
 "cells": [
  {
   "cell_type": "code",
   "execution_count": 1,
   "id": "c811d330",
   "metadata": {},
   "outputs": [],
   "source": [
    "# Import dependencies\n",
    "\n",
    "from flask import Flask, render_template, request\n",
    "app = Flask(__name__)\n",
    "from flask_cors import cross_origin\n"
   ]
  },
  {
   "cell_type": "code",
   "execution_count": 2,
   "id": "cbfbc0ea",
   "metadata": {},
   "outputs": [],
   "source": [
    "#pip install flask_cors\n"
   ]
  },
  {
   "cell_type": "code",
   "execution_count": 3,
   "id": "49a46c83",
   "metadata": {},
   "outputs": [],
   "source": [
    "# Simulated data\n",
    "vaccination_data = [\n",
    "    {\"location\": \"Country A\", \"total_vaccinations\": 1000},\n",
    "    {\"location\": \"Country B\", \"total_vaccinations\": 1500},\n",
    "    {\"location\": \"Country C\", \"total_vaccinations\": 800}\n",
    "]"
   ]
  },
  {
   "cell_type": "code",
   "execution_count": 4,
   "id": "94ee1bc6",
   "metadata": {},
   "outputs": [],
   "source": [
    "# Home page\n",
    "@app.route('/')\n",
    "@cross_origin()\n",
    "def home():\n",
    "    return 'Welcome to the COVID-19 Vaccination Data Dashboard!'"
   ]
  },
  {
   "cell_type": "code",
   "execution_count": 5,
   "id": "fed2844d",
   "metadata": {},
   "outputs": [],
   "source": [
    "# Dashboard page with list of locations\n",
    "@app.route('/dashboard')\n",
    "@cross_origin()\n",
    "def dashboard():\n",
    "    return render_template('dashboard.html', data=vaccination_data)"
   ]
  },
  {
   "cell_type": "code",
   "execution_count": 6,
   "id": "505cdb58",
   "metadata": {},
   "outputs": [],
   "source": [
    "# Location details page\n",
    "@app.route('/location/<string:location_name>')\n",
    "@cross_origin()\n",
    "def location_details(location_name):\n",
    "    location = next((loc for loc in vaccination_data if loc['location'] == location_name), None)\n",
    "    if location:\n",
    "        return render_template('location_details.html', location=location)\n",
    "    else:\n",
    "        return 'Location not found.'"
   ]
  },
  {
   "cell_type": "code",
   "execution_count": 7,
   "id": "09c8e7d0",
   "metadata": {},
   "outputs": [
    {
     "name": "stdout",
     "output_type": "stream",
     "text": [
      " * Serving Flask app '__main__'\n",
      " * Debug mode: on\n"
     ]
    },
    {
     "name": "stderr",
     "output_type": "stream",
     "text": [
      "WARNING: This is a development server. Do not use it in a production deployment. Use a production WSGI server instead.\n",
      " * Running on http://127.0.0.1:5000\n",
      "Press CTRL+C to quit\n"
     ]
    },
    {
     "name": "stderr",
     "output_type": "stream",
     "text": [
      " * Restarting with watchdog (windowsapi)\n"
     ]
    },
    {
     "ename": "SystemExit",
     "evalue": "1",
     "output_type": "error",
     "traceback": [
      "An exception has occurred, use %tb to see the full traceback.\n",
      "\u001b[1;31mSystemExit\u001b[0m\u001b[1;31m:\u001b[0m 1\n"
     ]
    },
    {
     "name": "stderr",
     "output_type": "stream",
     "text": [
      "c:\\Users\\savyl\\anaconda3\\envs\\dev\\lib\\site-packages\\IPython\\core\\interactiveshell.py:3513: UserWarning: To exit: use 'exit', 'quit', or Ctrl-D.\n",
      "  warn(\"To exit: use 'exit', 'quit', or Ctrl-D.\", stacklevel=1)\n"
     ]
    }
   ],
   "source": [
    "# Search page\n",
    "@app.route('/search', methods=['GET', 'POST'])\n",
    "@cross_origin()\n",
    "def search():\n",
    "    if request.method == 'POST':\n",
    "        query = request.form.get('query')\n",
    "        search_results = [loc for loc in vaccination_data if query.lower() in loc['location'].lower()]\n",
    "        return render_template('search_results.html', results=search_results, query=query)\n",
    "    return render_template('search.html')\n",
    "\n",
    "if __name__ == '__main__':\n",
    "    app.run(debug=True)\n"
   ]
  },
  {
   "cell_type": "code",
   "execution_count": null,
   "id": "3181b76e",
   "metadata": {},
   "outputs": [],
   "source": [
    "%tb"
   ]
  },
  {
   "cell_type": "code",
   "execution_count": null,
   "id": "3f5ba5ec",
   "metadata": {},
   "outputs": [],
   "source": []
  }
 ],
 "metadata": {
  "kernelspec": {
   "display_name": "Python 3 (ipykernel)",
   "language": "python",
   "name": "python3"
  },
  "language_info": {
   "codemirror_mode": {
    "name": "ipython",
    "version": 3
   },
   "file_extension": ".py",
   "mimetype": "text/x-python",
   "name": "python",
   "nbconvert_exporter": "python",
   "pygments_lexer": "ipython3",
   "version": "3.10.11"
  }
 },
 "nbformat": 4,
 "nbformat_minor": 5
}
