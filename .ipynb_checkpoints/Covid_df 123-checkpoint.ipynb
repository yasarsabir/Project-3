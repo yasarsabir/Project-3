{
 "cells": [
  {
   "cell_type": "code",
   "execution_count": 1,
   "id": "be0ebc8f-2d58-4faf-bc63-e905d8c80d35",
   "metadata": {},
   "outputs": [],
   "source": [
    "# Import dependencies\n",
    "from pymongo import MongoClient\n",
    "from pprint import pprint\n",
    "import pandas as pd"
   ]
  },
  {
   "cell_type": "code",
   "execution_count": 2,
   "id": "9b221949-8917-46f1-a107-09bfda54019c",
   "metadata": {},
   "outputs": [],
   "source": [
    "# Create an instance of MongoClient\n",
    "mongo = MongoClient(port=27017)"
   ]
  },
  {
   "cell_type": "code",
   "execution_count": 3,
   "id": "d1ceea43-f7d4-476f-b612-4bfe0b916f24",
   "metadata": {},
   "outputs": [
    {
     "name": "stdout",
     "output_type": "stream",
     "text": [
      "['admin', 'config', 'epa', 'epa_db', 'local', 'met', 'travel_db', 'uk_food']\n"
     ]
    }
   ],
   "source": [
    "# confirm that \"admin\" database is in MongoDb\n",
    "print(mongo.list_database_names())"
   ]
  },
  {
   "cell_type": "code",
   "execution_count": 4,
   "id": "4c40f406-cf75-405f-b13b-d2fd4d0679c4",
   "metadata": {},
   "outputs": [],
   "source": [
    "# assign the admin database to a variable name\n",
    "db = mongo['admin']"
   ]
  },
  {
   "cell_type": "code",
   "execution_count": 5,
   "id": "2534f60d-0bf4-4cba-896c-c46057dc3c13",
   "metadata": {},
   "outputs": [
    {
     "name": "stdout",
     "output_type": "stream",
     "text": [
      "['system.version']\n"
     ]
    }
   ],
   "source": [
    "# review the collections (tables) in our database\n",
    "print(db.list_collection_names())\n"
   ]
  },
  {
   "cell_type": "code",
   "execution_count": 6,
   "id": "b360e0ae-6505-4035-9021-3e39b0b467a9",
   "metadata": {},
   "outputs": [],
   "source": [
    "# assign the collection to a variable\n",
    "covid_data = db['covid-data']"
   ]
  },
  {
   "cell_type": "markdown",
   "id": "e2e79ff3-4c3a-4265-9acf-997ea5bd15c4",
   "metadata": {},
   "source": [
    "# Clean the Data"
   ]
  },
  {
   "cell_type": "code",
   "execution_count": 7,
   "id": "7108edd9-c04e-4335-9ff5-5d375fe6e9e6",
   "metadata": {},
   "outputs": [],
   "source": [
    "# Retrieve data from the MongoDB collection\n",
    "results = covid_data.find()"
   ]
  },
  {
   "cell_type": "code",
   "execution_count": 8,
   "id": "1c43a430-2112-4aaf-b454-dd48cedbd69d",
   "metadata": {},
   "outputs": [],
   "source": [
    "# Create a Pandas DataFrame\n",
    "df = pd.DataFrame(results)"
   ]
  },
  {
   "cell_type": "code",
   "execution_count": 9,
   "id": "915c8889-2249-4689-9b3d-c17659e7d8b1",
   "metadata": {},
   "outputs": [
    {
     "name": "stdout",
     "output_type": "stream",
     "text": [
      "rows in DataFrame: 0\n"
     ]
    }
   ],
   "source": [
    "# Print the number of rows in the DataFrame\n",
    "print('rows in DataFrame:', len(df))"
   ]
  },
  {
   "cell_type": "code",
   "execution_count": 10,
   "id": "90e5a8bc-f8ba-40df-b3f1-c9c3667d7e74",
   "metadata": {},
   "outputs": [
    {
     "data": {
      "text/html": [
       "<div>\n",
       "<style scoped>\n",
       "    .dataframe tbody tr th:only-of-type {\n",
       "        vertical-align: middle;\n",
       "    }\n",
       "\n",
       "    .dataframe tbody tr th {\n",
       "        vertical-align: top;\n",
       "    }\n",
       "\n",
       "    .dataframe thead th {\n",
       "        text-align: right;\n",
       "    }\n",
       "</style>\n",
       "<table border=\"1\" class=\"dataframe\">\n",
       "  <thead>\n",
       "    <tr style=\"text-align: right;\">\n",
       "      <th></th>\n",
       "    </tr>\n",
       "  </thead>\n",
       "  <tbody>\n",
       "  </tbody>\n",
       "</table>\n",
       "</div>"
      ],
      "text/plain": [
       "Empty DataFrame\n",
       "Columns: []\n",
       "Index: []"
      ]
     },
     "execution_count": 10,
     "metadata": {},
     "output_type": "execute_result"
    }
   ],
   "source": [
    "# Display the first 10 rows of the DataFrame\n",
    "df.head(10)"
   ]
  },
  {
   "cell_type": "code",
   "execution_count": 46,
   "id": "f7675466-02a5-49f9-8b73-9c9024d19039",
   "metadata": {},
   "outputs": [
    {
     "name": "stdout",
     "output_type": "stream",
     "text": [
      "<class 'pandas.core.frame.DataFrame'>\n",
      "RangeIndex: 3546 entries, 0 to 3545\n",
      "Data columns (total 22 columns):\n",
      " #   Column                                Non-Null Count  Dtype  \n",
      "---  ------                                --------------  -----  \n",
      " 0   _id                                   3546 non-null   object \n",
      " 1   iso_code                              3546 non-null   object \n",
      " 2   continent                             3378 non-null   object \n",
      " 3   location                              3546 non-null   object \n",
      " 4   date                                  3546 non-null   object \n",
      " 5   new_deaths                            3444 non-null   float64\n",
      " 6   total_cases_per_million               3281 non-null   float64\n",
      " 7   median_age                            2797 non-null   float64\n",
      " 8   aged_65_older                         2699 non-null   float64\n",
      " 9   gdp_per_capita                        2741 non-null   float64\n",
      " 10  handwashing_facilities                1345 non-null   float64\n",
      " 11  new_tests_smoothed                    1097 non-null   float64\n",
      " 12  total_vaccinations                    780 non-null    float64\n",
      " 13  people_vaccinated                     749 non-null    float64\n",
      " 14  people_fully_vaccinated               708 non-null    float64\n",
      " 15  total_boosters                        470 non-null    float64\n",
      " 16  extreme_poverty                       1766 non-null   float64\n",
      " 17  female_smokers                        2060 non-null   float64\n",
      " 18  male_smokers                          2032 non-null   float64\n",
      " 19  hosp_patients_per_million             413 non-null    float64\n",
      " 20  excess_mortality_cumulative_absolute  50 non-null     float64\n",
      " 21  weekly_icu_admissions_per_million     97 non-null     float64\n",
      "dtypes: float64(17), object(5)\n",
      "memory usage: 609.6+ KB\n"
     ]
    }
   ],
   "source": [
    "# Examine data type of each column\n",
    "df.info()"
   ]
  },
  {
   "cell_type": "code",
   "execution_count": 47,
   "id": "0d20468c-d6cd-4950-9a2c-75c39538ea8c",
   "metadata": {},
   "outputs": [],
   "source": [
    "# Change data types for data analysis\n",
    "df['date'] = pd.to_datetime(df['date'])"
   ]
  },
  {
   "cell_type": "code",
   "execution_count": 48,
   "id": "3c4bbe07-1945-47a5-87a3-77f2ad66cc0d",
   "metadata": {},
   "outputs": [
    {
     "name": "stdout",
     "output_type": "stream",
     "text": [
      "<class 'pandas.core.frame.DataFrame'>\n",
      "RangeIndex: 3546 entries, 0 to 3545\n",
      "Data columns (total 22 columns):\n",
      " #   Column                                Non-Null Count  Dtype         \n",
      "---  ------                                --------------  -----         \n",
      " 0   _id                                   3546 non-null   object        \n",
      " 1   iso_code                              3546 non-null   object        \n",
      " 2   continent                             3378 non-null   object        \n",
      " 3   location                              3546 non-null   object        \n",
      " 4   date                                  3546 non-null   datetime64[ns]\n",
      " 5   new_deaths                            3444 non-null   float64       \n",
      " 6   total_cases_per_million               3281 non-null   float64       \n",
      " 7   median_age                            2797 non-null   float64       \n",
      " 8   aged_65_older                         2699 non-null   float64       \n",
      " 9   gdp_per_capita                        2741 non-null   float64       \n",
      " 10  handwashing_facilities                1345 non-null   float64       \n",
      " 11  new_tests_smoothed                    1097 non-null   float64       \n",
      " 12  total_vaccinations                    780 non-null    float64       \n",
      " 13  people_vaccinated                     749 non-null    float64       \n",
      " 14  people_fully_vaccinated               708 non-null    float64       \n",
      " 15  total_boosters                        470 non-null    float64       \n",
      " 16  extreme_poverty                       1766 non-null   float64       \n",
      " 17  female_smokers                        2060 non-null   float64       \n",
      " 18  male_smokers                          2032 non-null   float64       \n",
      " 19  hosp_patients_per_million             413 non-null    float64       \n",
      " 20  excess_mortality_cumulative_absolute  50 non-null     float64       \n",
      " 21  weekly_icu_admissions_per_million     97 non-null     float64       \n",
      "dtypes: datetime64[ns](1), float64(17), object(4)\n",
      "memory usage: 609.6+ KB\n"
     ]
    }
   ],
   "source": [
    "# Confirm type changes were successful by examining data types again\n",
    "df.info()"
   ]
  },
  {
   "cell_type": "code",
   "execution_count": 50,
   "id": "cf0661c8-47ad-41ba-b349-aeb7b969de3d",
   "metadata": {},
   "outputs": [],
   "source": [
    "#Saving clean_df to Resources\n",
    "clean_df = df\n",
    "clean_df.to_csv('clean_df123.csv',index=False)"
   ]
  },
  {
   "cell_type": "code",
   "execution_count": null,
   "id": "b98f5f79-9f12-4d47-a15a-7fcaa0fc7da8",
   "metadata": {},
   "outputs": [],
   "source": []
  },
  {
   "cell_type": "code",
   "execution_count": null,
   "id": "0a44fbe1-c57a-4693-b954-5c3a87628913",
   "metadata": {},
   "outputs": [],
   "source": []
  }
 ],
 "metadata": {
  "kernelspec": {
   "display_name": "Python 3 (ipykernel)",
   "language": "python",
   "name": "python3"
  },
  "language_info": {
   "codemirror_mode": {
    "name": "ipython",
    "version": 3
   },
   "file_extension": ".py",
   "mimetype": "text/x-python",
   "name": "python",
   "nbconvert_exporter": "python",
   "pygments_lexer": "ipython3",
   "version": "3.10.11"
  }
 },
 "nbformat": 4,
 "nbformat_minor": 5
}
